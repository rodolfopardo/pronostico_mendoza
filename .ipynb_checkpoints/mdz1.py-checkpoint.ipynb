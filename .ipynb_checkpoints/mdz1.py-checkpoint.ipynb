{
 "cells": [
  {
   "cell_type": "code",
   "execution_count": 4,
   "metadata": {},
   "outputs": [],
   "source": [
    "import re\n",
    "#Abro archivo txt\n",
    "mdz = open(\"mdz.txt\",\"r\")\n",
    "#Leo archivo txt\n",
    "mdz = mdz.read()\n",
    "#Imprimo archivo txt\n",
    "#print(mdz)"
   ]
  },
  {
   "cell_type": "code",
   "execution_count": 5,
   "metadata": {},
   "outputs": [
    {
     "name": "stdout",
     "output_type": "stream",
     "text": [
      "Hemos encontrado la palabra ['Mendoza']\n",
      "El Servicio Metereológico Nacional emitió a las 18 una alerta de vientos intensos en la cordillera de Mendoza. El comunicado señala que \"se espera que a partir de la madrugada del domingo 07 se incrementen los vientos del noroeste sobre el área de cobertura con intensidades entre 70 y 100 km/h con ráfagas\n",
      "\n",
      "El Servicio Metereológico Nacional emitió a las 18 una alerta de vientos intensos en la cordillera de Cordoba. El comunicado señala que \"se espera que a partir de la madrugada del domingo 07 se incrementen los vientos del noroeste sobre el área de cobertura con intensidades entre 70 y 100 km/h con ráfagas\n",
      "\n"
     ]
    }
   ],
   "source": [
    "#Se busca la palabra Mendoza\n",
    "var1 = re.findall(r\"M\\w{6}\\b\", mdz)\n",
    "print(\"Hemos encontrado la palabra %s\" % var1)\n",
    "#Se reemplaza por Cordoba en un nuevo comunicado\n",
    "cba = mdz.replace(\"Mendoza\", \"Cordoba\")\n",
    "#Se imprimen\n",
    "print(mdz)\n",
    "print(cba)\n",
    "#Se intenta saber que tipo de variables son\n",
    "#type(mdz)\n",
    "#type(cba)"
   ]
  },
  {
   "cell_type": "code",
   "execution_count": 6,
   "metadata": {},
   "outputs": [
    {
     "name": "stdout",
     "output_type": "stream",
     "text": [
      "El Servicio Metereológico Nacional Emitió A Las 18 Una Alerta De Vientos Intensos En La Cordillera De Mendoza El Comunicado Señala Que \"Se Espera Que A Partir De La Madrugada Del Domingo 07 Se Incrementen Los Vientos Del Noroeste Sobre El Área De Cobertura Con Intensidades Entre 70 Y 100 Km/H Con Ráfagas\n",
      "\n",
      "['18', '07', '70', '100']\n",
      "El comunicado es para preocuparse\n"
     ]
    }
   ],
   "source": [
    "#Se limpia los puntos\n",
    "mdz = re.sub(r\"\\.\", \"\", mdz)\n",
    "#Se encuentra los numeros\n",
    "var_num = re.findall(r\"\\d\\d?\\d\\b\", mdz)\n",
    "#Se pone todo en mayusculas\n",
    "mdz = mdz.title()\n",
    "#Se imprime nuevamente\n",
    "print(mdz)\n",
    "#Se imprimen los numeros\n",
    "print(var_num)\n",
    "#Se quiere saber de que estan hechos los numeros\n",
    "type(var_num)\n",
    "#Itinerancia para poder encontrar parametros gigantescos\n",
    "for i in var_num:\n",
    "    if int(i) >= 80:\n",
    "         print(\"El comunicado es para preocuparse\")"
   ]
  },
  {
   "cell_type": "code",
   "execution_count": null,
   "metadata": {},
   "outputs": [],
   "source": []
  }
 ],
 "metadata": {
  "kernelspec": {
   "display_name": "Python 3",
   "language": "python",
   "name": "python3"
  },
  "language_info": {
   "codemirror_mode": {
    "name": "ipython",
    "version": 3
   },
   "file_extension": ".py",
   "mimetype": "text/x-python",
   "name": "python",
   "nbconvert_exporter": "python",
   "pygments_lexer": "ipython3",
   "version": "3.7.3"
  }
 },
 "nbformat": 4,
 "nbformat_minor": 2
}
